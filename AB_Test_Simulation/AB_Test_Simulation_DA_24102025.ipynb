{
 "cells": [
  {
   "cell_type": "markdown",
   "id": "55c7bf59-8721-4388-8a38-b0a4f297ed17",
   "metadata": {},
   "source": [
    "# Full A/B Test Simulation\n",
    "\n",
    "## Overview\n",
    "\n",
    "This simulation models a controlled A/B test to evaluate the effect of a treatment intervention on user outcomes.  \n",
    "The simulated outcome represents a **continuous performance metric** (e.g., revenue, engagement time, or conversions), **scaled by baseline activity**.\n",
    "\n",
    "A total of **2,000 users** were randomly assigned (**stratified by baseline activity**) into treatment and control groups in equal proportion. The treatment group received a **10% multiplicative boost** relative to baseline performance, with added Gaussian noise (*σ* = 0.5).\n",
    "\n",
    "**Goal**<br>\n",
    "To test the hypothesis that treatment significantly improves outcomes, both in raw comparison and when adjusting for baseline activity."
   ]
  },
  {
   "cell_type": "markdown",
   "id": "a8c169b7-b661-4910-8365-a194f9c0204f",
   "metadata": {},
   "source": [
    "#### 1. Import Libraries"
   ]
  },
  {
   "cell_type": "code",
   "execution_count": 1,
   "id": "fbfdc20f-9e59-45f6-a207-8acd029eb9e0",
   "metadata": {},
   "outputs": [],
   "source": [
    "import sys\n",
    "import numpy as np\n",
    "import pandas as pd\n",
    "import seaborn as sns\n",
    "import matplotlib.pyplot as plt\n",
    "from scipy import stats\n",
    "import statsmodels.formula.api as smf\n",
    "import importlib.metadata"
   ]
  },
  {
   "cell_type": "markdown",
   "id": "8d0b0825-4647-4ee2-9921-0ed21457c613",
   "metadata": {},
   "source": [
    "#### 2. Set Parameters"
   ]
  },
  {
   "cell_type": "code",
   "execution_count": 2,
   "id": "9a5027a0-5f74-4c88-b631-0c40595f30c7",
   "metadata": {},
   "outputs": [],
   "source": [
    "np.random.seed(42)\n",
    "n_users = 2000\n",
    "treatment_frac = 0.5\n",
    "treatment_effect = 0.10  # 10% increase\n",
    "sigma_noise = 0.5\n",
    "n_strata = 4\n",
    "winsor_limits = (0.01, 0.01)"
   ]
  },
  {
   "cell_type": "markdown",
   "id": "b739fb64-38de-4596-9933-0f0582a7b47e",
   "metadata": {},
   "source": [
    "The simulation parameters define sample size, randomization ratio, treatment strength, and noise level. **Winsorization limits** are also defined to reduce the impact of extreme outliers in the outcome variable.\n",
    "\n",
    "## Baseline\n",
    "\n",
    "#### 3. Generate Baseline Data"
   ]
  },
  {
   "cell_type": "code",
   "execution_count": 3,
   "id": "010909f5-15e7-42c5-9300-ba1d9433c621",
   "metadata": {},
   "outputs": [],
   "source": [
    "baseline = np.random.gamma(shape=2, scale=50, size=n_users)\n",
    "data = pd.DataFrame({\n",
    "    \"user_id\": np.arange(n_users),\n",
    "    \"baseline\": baseline\n",
    "})"
   ]
  },
  {
   "cell_type": "markdown",
   "id": "4a10cd1d-328c-4410-8535-cc35cb9697b4",
   "metadata": {},
   "source": [
    "##### **Stratified Randomized Grouping**"
   ]
  },
  {
   "cell_type": "code",
   "execution_count": 4,
   "id": "5f704e83-e759-4862-8123-879d3a359b99",
   "metadata": {},
   "outputs": [],
   "source": [
    "data[\"strata\"] = pd.qcut(data[\"baseline\"], q=n_strata, labels=False)\n",
    "data[\"group\"] = np.nan\n",
    "\n",
    "for s in data[\"strata\"].unique():\n",
    "    idx = data[data[\"strata\"] == s].index\n",
    "    n_treat = int(np.round(len(idx) * treatment_frac))\n",
    "    shuffled_idx = np.random.permutation(idx)\n",
    "    data.loc[shuffled_idx[:n_treat], \"group\"] = \"treatment\"\n",
    "    data.loc[shuffled_idx[n_treat:], \"group\"] = \"control\""
   ]
  },
  {
   "cell_type": "markdown",
   "id": "3989ee12-3bcd-4aae-acb9-6caca600a534",
   "metadata": {},
   "source": [
    "#### 4. Baseline Balance Check"
   ]
  },
  {
   "cell_type": "code",
   "execution_count": 5,
   "id": "7781c329-8159-4fa0-8a49-0ebb140c79f7",
   "metadata": {},
   "outputs": [
    {
     "name": "stdout",
     "output_type": "stream",
     "text": [
      "\n",
      "Baseline summaries by group:\n"
     ]
    },
    {
     "data": {
      "text/html": [
       "<div>\n",
       "<style scoped>\n",
       "    .dataframe tbody tr th:only-of-type {\n",
       "        vertical-align: middle;\n",
       "    }\n",
       "\n",
       "    .dataframe tbody tr th {\n",
       "        vertical-align: top;\n",
       "    }\n",
       "\n",
       "    .dataframe thead th {\n",
       "        text-align: right;\n",
       "    }\n",
       "</style>\n",
       "<table border=\"1\" class=\"dataframe\">\n",
       "  <thead>\n",
       "    <tr style=\"text-align: right;\">\n",
       "      <th></th>\n",
       "      <th>group</th>\n",
       "      <th>n</th>\n",
       "      <th>mean</th>\n",
       "      <th>std</th>\n",
       "      <th>min</th>\n",
       "      <th>median</th>\n",
       "      <th>max</th>\n",
       "    </tr>\n",
       "  </thead>\n",
       "  <tbody>\n",
       "    <tr>\n",
       "      <th>0</th>\n",
       "      <td>control</td>\n",
       "      <td>1000</td>\n",
       "      <td>101.780937</td>\n",
       "      <td>70.807729</td>\n",
       "      <td>1.617404</td>\n",
       "      <td>86.439376</td>\n",
       "      <td>680.511634</td>\n",
       "    </tr>\n",
       "    <tr>\n",
       "      <th>1</th>\n",
       "      <td>treatment</td>\n",
       "      <td>1000</td>\n",
       "      <td>102.823113</td>\n",
       "      <td>71.476561</td>\n",
       "      <td>1.293024</td>\n",
       "      <td>86.398692</td>\n",
       "      <td>392.802157</td>\n",
       "    </tr>\n",
       "  </tbody>\n",
       "</table>\n",
       "</div>"
      ],
      "text/plain": [
       "       group     n        mean        std       min     median         max\n",
       "0    control  1000  101.780937  70.807729  1.617404  86.439376  680.511634\n",
       "1  treatment  1000  102.823113  71.476561  1.293024  86.398692  392.802157"
      ]
     },
     "execution_count": 5,
     "metadata": {},
     "output_type": "execute_result"
    }
   ],
   "source": [
    "summary_baseline = data.groupby(\"group\")[\"baseline\"].agg(\n",
    "    n=\"count\",\n",
    "    mean=\"mean\",\n",
    "    std=\"std\",\n",
    "    min=\"min\",\n",
    "    median=\"median\",\n",
    "    max=\"max\"\n",
    ").reset_index()\n",
    "print(\"\\nBaseline summaries by group:\")\n",
    "summary_baseline"
   ]
  },
  {
   "cell_type": "markdown",
   "id": "dd733f4d-3fbe-48a7-b570-2156287d1cb5",
   "metadata": {},
   "source": [
    "##### **Baseline Distribution Visualization**"
   ]
  },
  {
   "cell_type": "code",
   "execution_count": 6,
   "id": "f5263af1-cbfb-4df8-bfc4-1407a97c1586",
   "metadata": {},
   "outputs": [
    {
     "data": {
      "image/png": "[encoded data removed]",
      "text/plain": [
       "<Figure size 500x350 with 1 Axes>"
      ]
     },
     "metadata": {},
     "output_type": "display_data"
    }
   ],
   "source": [
    "def plot_distribution(metric, title, bins):\n",
    "    plt.figure(figsize=(5, 3.5))\n",
    "    sns.histplot(data=data, x=metric, hue=\"group\", bins=bins, kde=True)\n",
    "    plt.title(title)\n",
    "    plt.xlabel(metric)\n",
    "    plt.ylabel(\"Frequency\")\n",
    "    plt.show()\n",
    "\n",
    "sns.set_style(\"ticks\")\n",
    "plot_distribution(\"baseline\", \"Baseline Distribution by Group\", 40)"
   ]
  },
  {
   "cell_type": "markdown",
   "id": "535f5d45-1c30-48ce-91be-3bb7ec6517c7",
   "metadata": {},
   "source": [
    "The stratified randomization successfully ensured **similar baseline means** between control and treatment, confirming balance before intervention.\n",
    "\n",
    "## Treatment Effects\n",
    "#### 5. Simulate Treatment Outcomes"
   ]
  },
  {
   "cell_type": "code",
   "execution_count": 7,
   "id": "0a854736-13dc-41cb-ba33-0ac0dc8ef1e2",
   "metadata": {},
   "outputs": [],
   "source": [
    "data[\"outcome\"] = data[\"baseline\"] * (\n",
    "    1 + treatment_effect * (data[\"group\"] == \"treatment\")\n",
    ") + np.random.normal(0, sigma_noise, size=n_users)\n",
    "\n",
    "# Winsorize to control outliers\n",
    "def winsorize(series, lims=(0, 0)):\n",
    "    return stats.mstats.winsorize(series, limits=lims)\n",
    "data[\"outcome_win\"] = winsorize(data[\"outcome\"], lims=winsor_limits)"
   ]
  },
  {
   "cell_type": "markdown",
   "id": "753d0ccc-669a-4a08-9ae3-099189b32733",
   "metadata": {},
   "source": [
    "Subsequent analyses use `outcome_win` (winsorized outcome) to mitigate the influence of extreme outliers.\n",
    "<br><br>\n",
    "##### **Outcome Summaries**"
   ]
  },
  {
   "cell_type": "code",
   "execution_count": 8,
   "id": "4ab977f2-7e29-4cef-91fa-39e0468557e3",
   "metadata": {},
   "outputs": [
    {
     "name": "stdout",
     "output_type": "stream",
     "text": [
      "\n",
      "Outcome summaries:\n"
     ]
    },
    {
     "data": {
      "text/html": [
       "<div>\n",
       "<style scoped>\n",
       "    .dataframe tbody tr th:only-of-type {\n",
       "        vertical-align: middle;\n",
       "    }\n",
       "\n",
       "    .dataframe tbody tr th {\n",
       "        vertical-align: top;\n",
       "    }\n",
       "\n",
       "    .dataframe thead th {\n",
       "        text-align: right;\n",
       "    }\n",
       "</style>\n",
       "<table border=\"1\" class=\"dataframe\">\n",
       "  <thead>\n",
       "    <tr style=\"text-align: right;\">\n",
       "      <th></th>\n",
       "      <th>group</th>\n",
       "      <th>n</th>\n",
       "      <th>mean</th>\n",
       "      <th>std</th>\n",
       "      <th>min</th>\n",
       "      <th>median</th>\n",
       "      <th>max</th>\n",
       "    </tr>\n",
       "  </thead>\n",
       "  <tbody>\n",
       "    <tr>\n",
       "      <th>0</th>\n",
       "      <td>control</td>\n",
       "      <td>1000</td>\n",
       "      <td>101.294830</td>\n",
       "      <td>68.037673</td>\n",
       "      <td>8.860655</td>\n",
       "      <td>86.463161</td>\n",
       "      <td>344.850824</td>\n",
       "    </tr>\n",
       "    <tr>\n",
       "      <th>1</th>\n",
       "      <td>treatment</td>\n",
       "      <td>1000</td>\n",
       "      <td>112.466526</td>\n",
       "      <td>76.223421</td>\n",
       "      <td>8.860655</td>\n",
       "      <td>95.016198</td>\n",
       "      <td>344.850824</td>\n",
       "    </tr>\n",
       "  </tbody>\n",
       "</table>\n",
       "</div>"
      ],
      "text/plain": [
       "       group     n        mean        std       min     median         max\n",
       "0    control  1000  101.294830  68.037673  8.860655  86.463161  344.850824\n",
       "1  treatment  1000  112.466526  76.223421  8.860655  95.016198  344.850824"
      ]
     },
     "execution_count": 8,
     "metadata": {},
     "output_type": "execute_result"
    }
   ],
   "source": [
    "summary_outcome = data.groupby(\"group\").agg(\n",
    "    n=(\"outcome_win\", \"count\"),\n",
    "    mean=(\"outcome_win\", \"mean\"),\n",
    "    std=(\"outcome_win\", \"std\"),\n",
    "    min=(\"outcome_win\", \"min\"),\n",
    "    median=(\"outcome_win\", \"median\"),\n",
    "    max=(\"outcome_win\", \"max\")\n",
    ").reset_index()\n",
    "print(\"\\nOutcome summaries:\")\n",
    "summary_outcome"
   ]
  },
  {
   "cell_type": "markdown",
   "id": "3f062e21-9b47-4abf-b644-6c0af495b1e6",
   "metadata": {},
   "source": [
    "##### **Outcome Distribution Visualization**"
   ]
  },
  {
   "cell_type": "code",
   "execution_count": 9,
   "id": "ce79aa83-b23f-4eb3-b196-7546325a113a",
   "metadata": {},
   "outputs": [
    {
     "data": {
      "image/png": "[encoded data removed]",
      "text/plain": [
       "<Figure size 500x350 with 1 Axes>"
      ]
     },
     "metadata": {},
     "output_type": "display_data"
    }
   ],
   "source": [
    "plot_distribution(\"outcome_win\", \"Outcome Distribution\", 30)"
   ]
  },
  {
   "cell_type": "markdown",
   "id": "8aaa4162-66d7-44ce-9a57-dc8278b8a0e6",
   "metadata": {},
   "source": [
    "The treatment group showed a rightward shift in outcome distribution, reflecting the intended 10% improvement with controlled noise.\n",
    "\n",
    "## Statistical Tests and Results\n",
    "#### 6. Unadjusted Welch’s t-Test\n",
    "The Welch’s t-test compares group means without assuming equal variance. A significant *p*-value indicates treatment improved outcomes."
   ]
  },
  {
   "cell_type": "code",
   "execution_count": 10,
   "id": "691b2209-2eca-4b28-90ce-9ffde3e7f604",
   "metadata": {},
   "outputs": [
    {
     "name": "stdout",
     "output_type": "stream",
     "text": [
      "Treatment effect: 11.17 ± 3.23 (95% CI [4.84, 17.51]), t(1972.8) = 3.46, p < 0.001, d = 0.155\n"
     ]
    }
   ],
   "source": [
    "a = data.loc[data[\"group\"] == \"control\", \"outcome_win\"]\n",
    "b = data.loc[data[\"group\"] == \"treatment\", \"outcome_win\"]\n",
    "\n",
    "# Welch’s t-test\n",
    "t_stat, p_ttest = stats.ttest_ind(b, a, equal_var=False)\n",
    "\n",
    "mean_control = a.mean()\n",
    "mean_treat = b.mean()\n",
    "std_control = a.std(ddof=1)\n",
    "std_treat = b.std(ddof=1)\n",
    "\n",
    "n_control = len(a)\n",
    "n_treat = len(b)\n",
    "\n",
    "# Difference and standard error\n",
    "diff = mean_treat - mean_control\n",
    "se_diff = np.sqrt((std_control**2 / n_control) + (std_treat**2 / n_treat))\n",
    "\n",
    "# Welch–Satterthwaite degrees of freedom\n",
    "df = ((std_control**2 / n_control + std_treat**2 / n_treat) ** 2) / (\n",
    "    ((std_control**2 / n_control) ** 2) / (n_control - 1)\n",
    "    + ((std_treat**2 / n_treat) ** 2) / (n_treat - 1)\n",
    ")\n",
    "\n",
    "# Critical t for 95% CI\n",
    "t_crit = stats.t.ppf(0.975, df)\n",
    "\n",
    "# Confidence interval\n",
    "ci_lower = diff - t_crit * se_diff\n",
    "ci_upper = diff + t_crit * se_diff\n",
    "\n",
    "# Cohen's d (pooled SD)\n",
    "cohen_d = diff / np.sqrt((std_control**2 + std_treat**2) / 2)\n",
    "\n",
    "def significance(p_value):\n",
    "    if p_value < 0.001:\n",
    "        return \"p < 0.001\"\n",
    "    elif p_value < 0.05:\n",
    "        return f\"p = {p_value:.4f}\"\n",
    "    else:\n",
    "        return f\"p = {p_value:.4f} (n.s.)\"\n",
    "\n",
    "print(\n",
    "    f\"Treatment effect: {diff:.2f} ± {se_diff:.2f} (95% CI [{ci_lower:.2f}, {ci_upper:.2f}]), \"\n",
    "    f\"t({df:.1f}) = {t_stat:.2f}, {significance(p_ttest)}, d = {cohen_d:.3f}\"\n",
    ")"
   ]
  },
  {
   "cell_type": "markdown",
   "id": "1d066037-b87d-4d08-ae94-8132e8b366a2",
   "metadata": {},
   "source": [
    "The treatment group (*M* = 112.47, *SD* = 76.22) had a significantly higher outcome than the control group (*M* = 101.29, *SD* = 68.04); *t* (Welch) = 3.46, *p* < 0.001, with a 95% confidence interval for estimated mean increase of [4.84, 17.51] and an effect size (d = 0.155). This represents a small effect according to Cohen’s conventions.\n",
    "<br><br>\n",
    "#### 7. Baseline-Adjusted ANCOVA\n",
    "An Analysis of Covariance (ANCOVA) was fitted to account for individual baseline variation, isolating the treatment’s marginal effect."
   ]
  },
  {
   "cell_type": "code",
   "execution_count": 11,
   "id": "5add11cb-3ef4-4030-9f4e-5b4be6de3631",
   "metadata": {
    "scrolled": true
   },
   "outputs": [
    {
     "name": "stdout",
     "output_type": "stream",
     "text": [
      "Coef: 10.12 (robust SE = 0.45, t = 22.31, p < 0.001), adjusted R²: 0.983\n"
     ]
    }
   ],
   "source": [
    "def run_ancova(outcome_var):\n",
    "    model = smf.ols(\n",
    "        f\"{outcome_var} ~ C(group, Treatment(reference='control')) + baseline\",\n",
    "        data=data\n",
    "    ).fit(cov_type=\"HC3\")\n",
    "\n",
    "    treatment_param = [p for p in model.params.index if \"T.treatment\" in p][0]\n",
    "    \n",
    "    coef = model.params[treatment_param]\n",
    "    se = model.bse[treatment_param]\n",
    "    t_val = model.tvalues[treatment_param]\n",
    "    p_val = model.pvalues[treatment_param]\n",
    "    r2 = model.rsquared_adj\n",
    "    return coef, se, t_val, p_val, r2\n",
    "    \n",
    "coef_raw, se_raw, t_raw, p_raw, r2_raw = run_ancova(\"outcome_win\")\n",
    "\n",
    "print(\n",
    "    f\"Coef: {coef_raw:.2f} (robust SE = {se_raw:.2f}, t = {t_raw:.2f}, {significance(p_raw)}), \"\n",
    "    f\"adjusted R²: {r2_raw:.3f}\"\n",
    ")"
   ]
  },
  {
   "cell_type": "markdown",
   "id": "60d2d953-5b0d-4bcb-adb5-fd5ce427e1e9",
   "metadata": {},
   "source": [
    "After adjusting for baseline, the treatment group again showed significantly higher outcomes than the control group. Treatment **increased outcome by 10.12 units** (robust *SE* = 0.454, *t* = 22.31, *p* < 0.001). Baseline was a strong positive predictor, and the model explained a substantial proportion of variance (**adjusted *R²*: 0.983**).\n",
    "\n",
    "This corresponds to an approximate 10% increase relative to baseline mean, consistent with the designed treatment effect. In contrast, the unadjusted Welch’s t-test produced a slightly inflated mean difference (**+11.17 units**) due to residual baseline variance. This shows that adjusting for baseline variation improves precision and recovers the true underlying lift more accurately than raw group comparison.\n",
    "\n",
    "## Discussion\n",
    "The results demonstrate that the simulated treatment achieved a measurable and statistically significant uplift in outcomes. This uplift translates to potential gains in key performance metrics such as revenue or engagement, depending on the specific intervention context.\n",
    "\n",
    "The ANCOVA results further validate that this uplift is not due to baseline imbalance. Baseline was strongly correlated with outcome, but the treatment effect remained significant even after controlling for it.\n",
    "\n",
    "The adjusted model provided a more accurate estimate of the true 10% treatment lift by controlling for baseline heterogeneity, thereby reducing residual variance and enhancing statistical power.\n",
    "\n",
    "##### **Limitations**\n",
    "- This is a synthetic dataset. Real-world data may differ in skew, attrition, or interaction effects.\n",
    "- Assumes a constant treatment effect across strata which might not be applicable in real-world data.\n",
    "- Normality assumption not explicitly tested (though robust SEs mitigate risk).\n",
    "\n",
    "##### **Next Steps**\n",
    "- Explore heterogeneous treatment effects by baseline quartile or demography proxy.\n",
    "- Test pipeline on real production data or observational analogs.\n",
    "\n",
    "## Conclusion\n",
    "\n",
    "This end-to-end simulation provides a statistically rigorous and reproducible demonstration of A/B testing methodology. With stratified randomization, winsorized outcomes, and baseline adjustment, it achieves reliable inference, aligning with modern experimentation standards in data science."
   ]
  },
  {
   "cell_type": "markdown",
   "id": "7de3c888-8abe-428f-9e06-15725f7ba4c9",
   "metadata": {},
   "source": [
    "#### 8. Versions\n",
    "Package versions are reported for reproducibility. All analyses were performed in **Python 3.11** with the following packages:\n",
    "`numpy`, `pandas`, `scipy`, `statsmodels`, `seaborn`, `matplotlib`, and `importlib`."
   ]
  },
  {
   "cell_type": "code",
   "execution_count": 12,
   "id": "27294e76-5fd0-41ba-8e28-350864fd5dcc",
   "metadata": {},
   "outputs": [
    {
     "name": "stdout",
     "output_type": "stream",
     "text": [
      "\n",
      "Environment Versions\n",
      "\n",
      "Python: 3.11.0\n",
      "numpy: 1.25.2+2.g530bd4c06\n",
      "pandas: 2.0.3\n",
      "scipy: 1.11.2\n",
      "statsmodels: 0.14.0\n",
      "seaborn: 0.13.1\n",
      "matplotlib: 3.9.0.dev16+g5446a454e4\n",
      "importlib.metadata: 8.7.0\n"
     ]
    }
   ],
   "source": [
    "libraries = [\n",
    "    \"numpy\", \"pandas\", \"scipy\", \"statsmodels\",\n",
    "    \"seaborn\", \"matplotlib\", \"importlib.metadata\"\n",
    "]\n",
    "print(\"\\nEnvironment Versions\")\n",
    "\n",
    "print(f\"\\nPython: {sys.version.split()[0]}\")\n",
    "for lib in libraries:\n",
    "    try:\n",
    "        print(f\"{lib}: {importlib.metadata.version(lib)}\")\n",
    "    except importlib.metadata.PackageNotFoundError:\n",
    "        print(f\"{lib}: Not Found\")"
   ]
  },
  {
   "cell_type": "code",
   "execution_count": null,
   "id": "eb91fe57-7e2d-4173-b051-60b0111b3b27",
   "metadata": {},
   "outputs": [],
   "source": []
  }
 ],
 "metadata": {
  "kernelspec": {
   "display_name": "Python 3 (ipykernel)",
   "language": "python",
   "name": "python3"
  },
  "language_info": {
   "codemirror_mode": {
    "name": "ipython",
    "version": 3
   },
   "file_extension": ".py",
   "mimetype": "text/x-python",
   "name": "python",
   "nbconvert_exporter": "python",
   "pygments_lexer": "ipython3",
   "version": "3.11.0"
  }
 },
 "nbformat": 4,
 "nbformat_minor": 5
}
